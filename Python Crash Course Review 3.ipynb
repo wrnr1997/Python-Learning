{
 "metadata": {
  "language_info": {
   "codemirror_mode": {
    "name": "ipython",
    "version": 3
   },
   "file_extension": ".py",
   "mimetype": "text/x-python",
   "name": "python",
   "nbconvert_exporter": "python",
   "pygments_lexer": "ipython3",
   "version": "3.8.3-final"
  },
  "orig_nbformat": 2,
  "kernelspec": {
   "name": "python37464bitbaseconda9a239358278343fa960842d9af5a6d1f",
   "display_name": "Python 3.7.4 64-bit ('base': conda)"
  }
 },
 "nbformat": 4,
 "nbformat_minor": 2,
 "cells": [
  {
   "cell_type": "code",
   "execution_count": 2,
   "metadata": {},
   "outputs": [],
   "source": [
    "cars = ['audi', 'bmw', 'subaru', 'toyota']"
   ]
  },
  {
   "cell_type": "code",
   "execution_count": 3,
   "metadata": {
    "tags": []
   },
   "outputs": [
    {
     "output_type": "stream",
     "name": "stdout",
     "text": "Audi\nBMW\nSubaru\nToyota\n"
    }
   ],
   "source": [
    "for x in cars:\n",
    "    if x == 'bmw':\n",
    "        print(x.upper())\n",
    "    else:\n",
    "        print(x.title())"
   ]
  },
  {
   "cell_type": "code",
   "execution_count": 4,
   "metadata": {
    "tags": []
   },
   "outputs": [
    {
     "output_type": "stream",
     "name": "stdout",
     "text": "That is not the answer\n"
    }
   ],
   "source": [
    "answer_to_life = 17\n",
    "\n",
    "if answer_to_life != 42:\n",
    "    print('That is not the answer')"
   ]
  },
  {
   "cell_type": "code",
   "execution_count": 5,
   "metadata": {},
   "outputs": [],
   "source": [
    "answer = 42"
   ]
  },
  {
   "cell_type": "code",
   "execution_count": 6,
   "metadata": {},
   "outputs": [
    {
     "output_type": "execute_result",
     "data": {
      "text/plain": "True"
     },
     "metadata": {},
     "execution_count": 6
    }
   ],
   "source": [
    "answer > 19"
   ]
  },
  {
   "cell_type": "code",
   "execution_count": 7,
   "metadata": {},
   "outputs": [
    {
     "output_type": "execute_result",
     "data": {
      "text/plain": "True"
     },
     "metadata": {},
     "execution_count": 7
    }
   ],
   "source": [
    "answer < 43"
   ]
  },
  {
   "cell_type": "code",
   "execution_count": 8,
   "metadata": {},
   "outputs": [
    {
     "output_type": "execute_result",
     "data": {
      "text/plain": "True"
     },
     "metadata": {},
     "execution_count": 8
    }
   ],
   "source": [
    "answer > 41 and answer < 43"
   ]
  },
  {
   "cell_type": "code",
   "execution_count": 9,
   "metadata": {},
   "outputs": [
    {
     "output_type": "execute_result",
     "data": {
      "text/plain": "True"
     },
     "metadata": {},
     "execution_count": 9
    }
   ],
   "source": [
    "answer > 41 & answer < 43"
   ]
  },
  {
   "cell_type": "code",
   "execution_count": 10,
   "metadata": {},
   "outputs": [],
   "source": [
    "requested_toppings = ['mushrooms', 'onions', 'pineapple']"
   ]
  },
  {
   "cell_type": "code",
   "execution_count": 11,
   "metadata": {},
   "outputs": [
    {
     "output_type": "execute_result",
     "data": {
      "text/plain": "True"
     },
     "metadata": {},
     "execution_count": 11
    }
   ],
   "source": [
    "'mushrooms' in requested_toppings"
   ]
  },
  {
   "cell_type": "code",
   "execution_count": 12,
   "metadata": {},
   "outputs": [],
   "source": [
    "banned_users = ['andrew', 'carolina', 'david']"
   ]
  },
  {
   "cell_type": "code",
   "execution_count": 13,
   "metadata": {},
   "outputs": [],
   "source": [
    "user = 'marie'"
   ]
  },
  {
   "cell_type": "code",
   "execution_count": 14,
   "metadata": {
    "tags": []
   },
   "outputs": [
    {
     "output_type": "stream",
     "name": "stdout",
     "text": "Marie, you can post\n"
    }
   ],
   "source": [
    "if user not in banned_users:\n",
    "    print(f'{user.title()}, you can post')"
   ]
  },
  {
   "cell_type": "code",
   "execution_count": 15,
   "metadata": {
    "tags": []
   },
   "outputs": [
    {
     "output_type": "stream",
     "name": "stdout",
     "text": "You can now vote in the Philippines\n"
    }
   ],
   "source": [
    "age = 22\n",
    "if age >= 18:\n",
    "    print(\"You can now vote in the Philippines\")\n",
    "else:\n",
    "    print(\"You can not vote in the Philippines yet\")"
   ]
  },
  {
   "cell_type": "code",
   "execution_count": 16,
   "metadata": {
    "tags": []
   },
   "outputs": [
    {
     "output_type": "stream",
     "name": "stdout",
     "text": "You can not vote in the Philippines yet\n"
    }
   ],
   "source": [
    "age = 15\n",
    "if age >= 18:\n",
    "    print(\"You can now vote in the Philippines\")\n",
    "else:\n",
    "    print(\"You can not vote in the Philippines yet\")"
   ]
  },
  {
   "cell_type": "code",
   "execution_count": 17,
   "metadata": {
    "tags": []
   },
   "outputs": [
    {
     "output_type": "stream",
     "name": "stdout",
     "text": "Adding mushrooms.\nAdding extra cheese.\n\nFinished making your pizza!\n"
    }
   ],
   "source": [
    "requested_toppings = ['mushrooms', 'extra cheese']\n",
    "\n",
    "if 'mushrooms' in requested_toppings: print(\"Adding mushrooms.\")\n",
    "if 'pepperoni' in requested_toppings: print(\"Adding pepperoni.\")\n",
    "if 'extra cheese' in requested_toppings: print(\"Adding extra cheese.\")\n",
    "\n",
    "\n",
    "print(\"\\nFinished making your pizza!\")"
   ]
  },
  {
   "cell_type": "code",
   "execution_count": 18,
   "metadata": {},
   "outputs": [],
   "source": [
    "alien_colors = ['green','yellow','red']"
   ]
  },
  {
   "cell_type": "code",
   "execution_count": 19,
   "metadata": {
    "tags": []
   },
   "outputs": [
    {
     "output_type": "stream",
     "name": "stdout",
     "text": "You earn 5 points\nYou do not have points\nYou do not have points\n"
    }
   ],
   "source": [
    "for i in alien_colors:\n",
    "    if i is 'green':\n",
    "        print('You earn 5 points')\n",
    "    else:\n",
    "        print('You do not have points')"
   ]
  },
  {
   "cell_type": "code",
   "execution_count": 20,
   "metadata": {
    "tags": []
   },
   "outputs": [
    {
     "output_type": "stream",
     "name": "stdout",
     "text": "You earned 5 points\n"
    }
   ],
   "source": [
    "if 'green' in alien_colors:\n",
    "    print('You earned 5 points')"
   ]
  },
  {
   "cell_type": "code",
   "execution_count": 21,
   "metadata": {
    "tags": []
   },
   "outputs": [
    {
     "output_type": "stream",
     "name": "stdout",
     "text": "You are an elder\n"
    }
   ],
   "source": [
    "age = int(input('Enter an age'))\n",
    "\n",
    "if age >= 2 and age < 2:\n",
    "    print('You are still a baby')\n",
    "elif age >= 2 and age < 4:\n",
    "    print('You are a toddler')\n",
    "elif age >= 4 and age < 13:\n",
    "    print('you are a kid')\n",
    "elif age >= 13 and age < 20:\n",
    "    print('You are a teenager')\n",
    "elif age >= 20 and age < 65:\n",
    "    print('You are an adult')\n",
    "else:\n",
    "    print('You are an elder')"
   ]
  },
  {
   "cell_type": "code",
   "execution_count": 22,
   "metadata": {},
   "outputs": [],
   "source": [
    "#Dictionaries"
   ]
  },
  {
   "cell_type": "code",
   "execution_count": 23,
   "metadata": {},
   "outputs": [],
   "source": [
    "alien_0 = {'color': 'green', 'points': 5}"
   ]
  },
  {
   "cell_type": "code",
   "execution_count": 24,
   "metadata": {
    "tags": []
   },
   "outputs": [
    {
     "output_type": "stream",
     "name": "stdout",
     "text": "green\n"
    }
   ],
   "source": [
    "print(alien_0['color'])"
   ]
  },
  {
   "cell_type": "code",
   "execution_count": 25,
   "metadata": {
    "tags": []
   },
   "outputs": [
    {
     "output_type": "stream",
     "name": "stdout",
     "text": "5\n"
    }
   ],
   "source": [
    "print(alien_0['points'])"
   ]
  },
  {
   "cell_type": "code",
   "execution_count": 28,
   "metadata": {},
   "outputs": [],
   "source": [
    "alien_0['x'] = 25\n",
    "alien_0['y'] = 0"
   ]
  },
  {
   "cell_type": "code",
   "execution_count": 29,
   "metadata": {},
   "outputs": [
    {
     "output_type": "execute_result",
     "data": {
      "text/plain": "{'color': 'green', 'points': 5, 'x': 25, 'y': 0}"
     },
     "metadata": {},
     "execution_count": 29
    }
   ],
   "source": [
    "alien_0"
   ]
  },
  {
   "cell_type": "code",
   "execution_count": 40,
   "metadata": {},
   "outputs": [],
   "source": [
    "my_dic = {}"
   ]
  },
  {
   "cell_type": "code",
   "execution_count": 41,
   "metadata": {},
   "outputs": [],
   "source": [
    "my_dic['one'] = 1\n",
    "my_dic['two'] = 2"
   ]
  },
  {
   "cell_type": "code",
   "execution_count": 42,
   "metadata": {},
   "outputs": [
    {
     "output_type": "execute_result",
     "data": {
      "text/plain": "{'one': 1, 'two': 2}"
     },
     "metadata": {},
     "execution_count": 42
    }
   ],
   "source": [
    "my_dic"
   ]
  },
  {
   "cell_type": "code",
   "execution_count": 43,
   "metadata": {},
   "outputs": [],
   "source": [
    "my_dic['one'] = 'New1'"
   ]
  },
  {
   "cell_type": "code",
   "execution_count": 44,
   "metadata": {},
   "outputs": [
    {
     "output_type": "execute_result",
     "data": {
      "text/plain": "{'one': 'New1', 'two': 2}"
     },
     "metadata": {},
     "execution_count": 44
    }
   ],
   "source": [
    "my_dic"
   ]
  },
  {
   "cell_type": "code",
   "execution_count": 49,
   "metadata": {
    "tags": []
   },
   "outputs": [
    {
     "output_type": "stream",
     "name": "stdout",
     "text": "The new 1 is New1!\n"
    }
   ],
   "source": [
    "print(f\"The new 1 is {my_dic['one']}!\")"
   ]
  },
  {
   "cell_type": "code",
   "execution_count": 52,
   "metadata": {},
   "outputs": [],
   "source": [
    "alien_0 = {'x_position':0,'y_position':25,'speed':'medium'}"
   ]
  },
  {
   "cell_type": "code",
   "execution_count": 53,
   "metadata": {
    "tags": []
   },
   "outputs": [
    {
     "output_type": "stream",
     "name": "stdout",
     "text": "Original position 0\n"
    }
   ],
   "source": [
    "print(f\"Original position {alien_0['x_position']}\")"
   ]
  },
  {
   "cell_type": "code",
   "execution_count": 66,
   "metadata": {},
   "outputs": [],
   "source": [
    "if alien_0['speed'] == 'slow':\n",
    "    x_increment = 1\n",
    "elif alien_0['speed'] == 'medium':\n",
    "    x_increment = 2\n",
    "else:\n",
    "    x_increment = 3\n",
    "\n",
    "alien_0['x_position'] = alien_0['x_position'] + x_increment"
   ]
  },
  {
   "cell_type": "code",
   "execution_count": 67,
   "metadata": {
    "tags": []
   },
   "outputs": [
    {
     "output_type": "stream",
     "name": "stdout",
     "text": "New alien position is 7\n"
    }
   ],
   "source": [
    "print(f\"New alien position is {alien_0['x_position']}\")"
   ]
  },
  {
   "cell_type": "code",
   "execution_count": 64,
   "metadata": {},
   "outputs": [],
   "source": [
    "alien_0['speed'] = 'fast'"
   ]
  },
  {
   "cell_type": "code",
   "execution_count": 65,
   "metadata": {},
   "outputs": [
    {
     "output_type": "execute_result",
     "data": {
      "text/plain": "{'x_position': 4, 'y_position': 25, 'speed': 'fast'}"
     },
     "metadata": {},
     "execution_count": 65
    }
   ],
   "source": [
    "alien_0"
   ]
  },
  {
   "cell_type": "code",
   "execution_count": 68,
   "metadata": {},
   "outputs": [],
   "source": [
    "del alien_0['speed']"
   ]
  },
  {
   "cell_type": "code",
   "execution_count": 69,
   "metadata": {},
   "outputs": [
    {
     "output_type": "execute_result",
     "data": {
      "text/plain": "{'x_position': 7, 'y_position': 25}"
     },
     "metadata": {},
     "execution_count": 69
    }
   ],
   "source": [
    "alien_0"
   ]
  },
  {
   "cell_type": "code",
   "execution_count": 70,
   "metadata": {},
   "outputs": [],
   "source": [
    "favorite_languages = {'jen':'python','sarah':'c','edward':'ruby','phil':'python'}"
   ]
  },
  {
   "cell_type": "code",
   "execution_count": 71,
   "metadata": {},
   "outputs": [],
   "source": [
    "language = favorite_languages['sarah'].title()"
   ]
  },
  {
   "cell_type": "code",
   "execution_count": 72,
   "metadata": {},
   "outputs": [
    {
     "output_type": "execute_result",
     "data": {
      "text/plain": "'C'"
     },
     "metadata": {},
     "execution_count": 72
    }
   ],
   "source": [
    "language"
   ]
  },
  {
   "cell_type": "code",
   "execution_count": 73,
   "metadata": {
    "tags": []
   },
   "outputs": [
    {
     "output_type": "stream",
     "name": "stdout",
     "text": "Fave language is C\n"
    }
   ],
   "source": [
    "print(f\"Fave language is {language}\")"
   ]
  },
  {
   "cell_type": "code",
   "execution_count": 74,
   "metadata": {},
   "outputs": [],
   "source": [
    "alien_0 = {'color':'green','speed':'slow'}"
   ]
  },
  {
   "cell_type": "code",
   "execution_count": 77,
   "metadata": {},
   "outputs": [],
   "source": [
    "point_value = alien_0.get('points','nothing')"
   ]
  },
  {
   "cell_type": "code",
   "execution_count": 78,
   "metadata": {},
   "outputs": [
    {
     "output_type": "execute_result",
     "data": {
      "text/plain": "'nothing'"
     },
     "metadata": {},
     "execution_count": 78
    }
   ],
   "source": [
    "point_value"
   ]
  },
  {
   "cell_type": "code",
   "execution_count": 80,
   "metadata": {},
   "outputs": [],
   "source": [
    "alien_0 = {'color':'green','speed':'slow','points':100}"
   ]
  },
  {
   "cell_type": "code",
   "execution_count": 81,
   "metadata": {},
   "outputs": [],
   "source": [
    "point_value = alien_0.get('points')"
   ]
  },
  {
   "cell_type": "code",
   "execution_count": 82,
   "metadata": {},
   "outputs": [
    {
     "output_type": "execute_result",
     "data": {
      "text/plain": "100"
     },
     "metadata": {},
     "execution_count": 82
    }
   ],
   "source": [
    "point_value"
   ]
  },
  {
   "cell_type": "code",
   "execution_count": 83,
   "metadata": {},
   "outputs": [],
   "source": [
    "myinfo = {'First name':'William','Last name':'Revilla','Age':22,'City':'Quezon City'}"
   ]
  },
  {
   "cell_type": "code",
   "execution_count": 84,
   "metadata": {},
   "outputs": [
    {
     "output_type": "execute_result",
     "data": {
      "text/plain": "{'First name': 'William',\n 'Last name': 'Revilla',\n 'Age': 22,\n 'City': 'Quezon City'}"
     },
     "metadata": {},
     "execution_count": 84
    }
   ],
   "source": [
    "myinfo"
   ]
  },
  {
   "cell_type": "code",
   "execution_count": 86,
   "metadata": {},
   "outputs": [
    {
     "output_type": "execute_result",
     "data": {
      "text/plain": "'William'"
     },
     "metadata": {},
     "execution_count": 86
    }
   ],
   "source": [
    "myinfo['First name']"
   ]
  },
  {
   "cell_type": "code",
   "execution_count": 87,
   "metadata": {},
   "outputs": [],
   "source": [
    "saan = {'Up':'Taas','Down':'Baba','Left':'Kaliwa','Right':'Kanan'}"
   ]
  },
  {
   "cell_type": "code",
   "execution_count": 89,
   "metadata": {
    "tags": []
   },
   "outputs": [
    {
     "output_type": "stream",
     "name": "stdout",
     "text": "Ang tagalog ng Up ay Taas!\nAng tagalog ng Down ay Baba!\nAng tagalog ng Left ay Kaliwa!\nAng tagalog ng Right ay Kanan!\n"
    }
   ],
   "source": [
    "print(f\"Ang tagalog ng Up ay {saan['Up']}!\")\n",
    "print(f\"Ang tagalog ng Down ay {saan['Down']}!\")\n",
    "print(f\"Ang tagalog ng Left ay {saan['Left']}!\")\n",
    "print(f\"Ang tagalog ng Right ay {saan['Right']}!\")"
   ]
  },
  {
   "cell_type": "code",
   "execution_count": 90,
   "metadata": {},
   "outputs": [],
   "source": [
    "saan = {'Up':'Taas','Down':'Baba','Left':'Kaliwa','Right':'Kanan'}"
   ]
  },
  {
   "cell_type": "code",
   "execution_count": 91,
   "metadata": {},
   "outputs": [
    {
     "output_type": "execute_result",
     "data": {
      "text/plain": "dict_items([('Up', 'Taas'), ('Down', 'Baba'), ('Left', 'Kaliwa'), ('Right', 'Kanan')])"
     },
     "metadata": {},
     "execution_count": 91
    }
   ],
   "source": [
    "saan.items()"
   ]
  },
  {
   "cell_type": "code",
   "execution_count": 92,
   "metadata": {},
   "outputs": [
    {
     "output_type": "execute_result",
     "data": {
      "text/plain": "dict_keys(['Up', 'Down', 'Left', 'Right'])"
     },
     "metadata": {},
     "execution_count": 92
    }
   ],
   "source": [
    "saan.keys()"
   ]
  },
  {
   "cell_type": "code",
   "execution_count": 93,
   "metadata": {},
   "outputs": [
    {
     "output_type": "execute_result",
     "data": {
      "text/plain": "dict_values(['Taas', 'Baba', 'Kaliwa', 'Kanan'])"
     },
     "metadata": {},
     "execution_count": 93
    }
   ],
   "source": [
    "saan.values()"
   ]
  },
  {
   "cell_type": "code",
   "execution_count": 101,
   "metadata": {
    "tags": []
   },
   "outputs": [
    {
     "output_type": "stream",
     "name": "stdout",
     "text": "\nKey: Up\n\nValue: Taas\n\nKey: Down\n\nValue: Baba\n\nKey: Left\n\nValue: Kaliwa\n\nKey: Right\n\nValue: Kanan\n"
    }
   ],
   "source": [
    "for key, value in saan.items():\n",
    "    print(f\"\\nKey: {key}\")\n",
    "    print(f\"\\nValue: {value}\")"
   ]
  },
  {
   "cell_type": "code",
   "execution_count": 102,
   "metadata": {},
   "outputs": [
    {
     "output_type": "execute_result",
     "data": {
      "text/plain": "dict_items([('Up', 'Taas'), ('Down', 'Baba'), ('Left', 'Kaliwa'), ('Right', 'Kanan')])"
     },
     "metadata": {},
     "execution_count": 102
    }
   ],
   "source": [
    "saan.items()"
   ]
  },
  {
   "cell_type": "code",
   "execution_count": 103,
   "metadata": {},
   "outputs": [],
   "source": [
    "fave_languages = {'jen':'python','sarah':'c','edward':'ruby','phil':'python'}"
   ]
  },
  {
   "cell_type": "code",
   "execution_count": 104,
   "metadata": {
    "tags": []
   },
   "outputs": [
    {
     "output_type": "stream",
     "name": "stdout",
     "text": "Jen's favorite language is Python!\nSarah's favorite language is C!\nEdward's favorite language is Ruby!\nPhil's favorite language is Python!\n"
    }
   ],
   "source": [
    "for name, language in favorite_languages.items():\n",
    "    print(f\"{name.title()}'s favorite language is {language.title()}!\")"
   ]
  },
  {
   "cell_type": "code",
   "execution_count": 108,
   "metadata": {
    "tags": []
   },
   "outputs": [
    {
     "output_type": "stream",
     "name": "stdout",
     "text": "Python\nC\nRuby\nPython\n"
    }
   ],
   "source": [
    "for x in fave_languages.values():\n",
    "    print(x.title())"
   ]
  },
  {
   "cell_type": "code",
   "execution_count": 109,
   "metadata": {},
   "outputs": [],
   "source": [
    "friends = ['jen','edward']"
   ]
  },
  {
   "cell_type": "code",
   "execution_count": 114,
   "metadata": {
    "tags": []
   },
   "outputs": [
    {
     "output_type": "stream",
     "name": "stdout",
     "text": "Hello, jen!\n\tJen, I see you love Python!\nHello, edward!\n\tEdward, I see you love Ruby!\n"
    }
   ],
   "source": [
    "for name in friends:\n",
    "    print(f\"Hello, {name}!\")\n",
    "    if name in friends:\n",
    "        language = fave_languages[name].title()\n",
    "        print(f\"\\t{name.title()}, I see you love {language}!\")"
   ]
  },
  {
   "cell_type": "code",
   "execution_count": 115,
   "metadata": {
    "tags": []
   },
   "outputs": [
    {
     "output_type": "stream",
     "name": "stdout",
     "text": "Hello, jen!\n\tJen, I see you love Python!\nHello, sarah!\nHello, edward!\n\tEdward, I see you love Ruby!\nHello, phil!\n"
    }
   ],
   "source": [
    "for name in fave_languages.keys():\n",
    "    print(f\"Hello, {name}!\")\n",
    "    if name in friends:\n",
    "        language = fave_languages[name].title()\n",
    "        print(f\"\\t{name.title()}, I see you love {language}!\")"
   ]
  },
  {
   "cell_type": "code",
   "execution_count": 117,
   "metadata": {},
   "outputs": [],
   "source": [
    "alien_0 = {'color':'green','points':5}\n",
    "alien_1 = {'color':'yellow','points':10}\n",
    "alien_2 = {'color':'red','points':15}"
   ]
  },
  {
   "cell_type": "code",
   "execution_count": 118,
   "metadata": {},
   "outputs": [],
   "source": [
    "aliens = [alien_0,alien_1,alien_2]"
   ]
  },
  {
   "cell_type": "code",
   "execution_count": 119,
   "metadata": {},
   "outputs": [
    {
     "output_type": "execute_result",
     "data": {
      "text/plain": "[{'color': 'green', 'points': 5},\n {'color': 'yellow', 'points': 10},\n {'color': 'red', 'points': 15}]"
     },
     "metadata": {},
     "execution_count": 119
    }
   ],
   "source": [
    "aliens"
   ]
  },
  {
   "cell_type": "code",
   "execution_count": 120,
   "metadata": {
    "tags": []
   },
   "outputs": [
    {
     "output_type": "stream",
     "name": "stdout",
     "text": "{'color': 'green', 'points': 5}\n{'color': 'yellow', 'points': 10}\n{'color': 'red', 'points': 15}\n"
    }
   ],
   "source": [
    "for alien in aliens:\n",
    "    print(alien)"
   ]
  },
  {
   "cell_type": "code",
   "execution_count": 121,
   "metadata": {},
   "outputs": [],
   "source": [
    "aliens = []"
   ]
  },
  {
   "cell_type": "code",
   "execution_count": 122,
   "metadata": {},
   "outputs": [],
   "source": [
    "for alien_number in range(30):\n",
    "    new_alien = {'color':'green','points':5,'speed':'slow'}\n",
    "    aliens.append(new_alien)"
   ]
  },
  {
   "cell_type": "code",
   "execution_count": 123,
   "metadata": {},
   "outputs": [
    {
     "output_type": "execute_result",
     "data": {
      "text/plain": "[{'color': 'green', 'points': 5, 'speed': 'slow'},\n {'color': 'green', 'points': 5, 'speed': 'slow'},\n {'color': 'green', 'points': 5, 'speed': 'slow'},\n {'color': 'green', 'points': 5, 'speed': 'slow'},\n {'color': 'green', 'points': 5, 'speed': 'slow'},\n {'color': 'green', 'points': 5, 'speed': 'slow'},\n {'color': 'green', 'points': 5, 'speed': 'slow'},\n {'color': 'green', 'points': 5, 'speed': 'slow'},\n {'color': 'green', 'points': 5, 'speed': 'slow'},\n {'color': 'green', 'points': 5, 'speed': 'slow'},\n {'color': 'green', 'points': 5, 'speed': 'slow'},\n {'color': 'green', 'points': 5, 'speed': 'slow'},\n {'color': 'green', 'points': 5, 'speed': 'slow'},\n {'color': 'green', 'points': 5, 'speed': 'slow'},\n {'color': 'green', 'points': 5, 'speed': 'slow'},\n {'color': 'green', 'points': 5, 'speed': 'slow'},\n {'color': 'green', 'points': 5, 'speed': 'slow'},\n {'color': 'green', 'points': 5, 'speed': 'slow'},\n {'color': 'green', 'points': 5, 'speed': 'slow'},\n {'color': 'green', 'points': 5, 'speed': 'slow'},\n {'color': 'green', 'points': 5, 'speed': 'slow'},\n {'color': 'green', 'points': 5, 'speed': 'slow'},\n {'color': 'green', 'points': 5, 'speed': 'slow'},\n {'color': 'green', 'points': 5, 'speed': 'slow'},\n {'color': 'green', 'points': 5, 'speed': 'slow'},\n {'color': 'green', 'points': 5, 'speed': 'slow'},\n {'color': 'green', 'points': 5, 'speed': 'slow'},\n {'color': 'green', 'points': 5, 'speed': 'slow'},\n {'color': 'green', 'points': 5, 'speed': 'slow'},\n {'color': 'green', 'points': 5, 'speed': 'slow'}]"
     },
     "metadata": {},
     "execution_count": 123
    }
   ],
   "source": [
    "aliens"
   ]
  },
  {
   "cell_type": "code",
   "execution_count": 124,
   "metadata": {},
   "outputs": [
    {
     "output_type": "execute_result",
     "data": {
      "text/plain": "{'dic1': 1, 'dic2': 2}"
     },
     "metadata": {},
     "execution_count": 124
    }
   ],
   "source": [
    "{'dic1':1,'dic2':2}"
   ]
  },
  {
   "cell_type": "code",
   "execution_count": 125,
   "metadata": {},
   "outputs": [
    {
     "output_type": "execute_result",
     "data": {
      "text/plain": "30"
     },
     "metadata": {},
     "execution_count": 125
    }
   ],
   "source": [
    "len(aliens)"
   ]
  },
  {
   "cell_type": "code",
   "execution_count": 126,
   "metadata": {},
   "outputs": [],
   "source": [
    "pizza = {'crust':'thick','toppings':['mushrooms','extra cheese']}"
   ]
  },
  {
   "cell_type": "code",
   "execution_count": 130,
   "metadata": {
    "tags": []
   },
   "outputs": [
    {
     "output_type": "stream",
     "name": "stdout",
     "text": "You ordered a thick crust pizza\nWith the following toppings:\n\nmushrooms\nextra cheese\n"
    }
   ],
   "source": [
    "print(f\"You ordered a {pizza['crust']} crust pizza\")\n",
    "print(f\"With the following toppings:\\n\")\n",
    "\n",
    "for x in pizza['toppings']:\n",
    "    print(x)"
   ]
  },
  {
   "cell_type": "code",
   "execution_count": 143,
   "metadata": {},
   "outputs": [],
   "source": [
    "users = {'aeinstein':{'first':'albert','last':'einstein','location':'princeton'},'mcurie':{'first':'marie','last':'curie','location':'paris'}}"
   ]
  },
  {
   "cell_type": "code",
   "execution_count": 148,
   "metadata": {
    "tags": []
   },
   "outputs": [
    {
     "output_type": "stream",
     "name": "stdout",
     "text": "\nUsername is aeinstein\nFull name: Albert Einstein\nLocation: Princeton\n\nUsername is mcurie\nFull name: Marie Curie\nLocation: Paris\n"
    }
   ],
   "source": [
    "for username, user_info in users.items():\n",
    "    print(f\"\\nUsername is {username}\")\n",
    "    full_name = f\"{user_info['first']} {user_info['last']}\"\n",
    "    location = f\"{user_info['location']}\"\n",
    "\n",
    "    print(f\"Full name: {full_name.title()}\")\n",
    "    print(f\"Location: {location.title()}\")\n"
   ]
  },
  {
   "cell_type": "code",
   "execution_count": null,
   "metadata": {},
   "outputs": [],
   "source": []
  }
 ]
}